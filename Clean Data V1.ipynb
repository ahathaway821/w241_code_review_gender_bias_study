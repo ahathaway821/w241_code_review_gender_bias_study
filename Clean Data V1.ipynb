{
 "cells": [
  {
   "cell_type": "code",
   "execution_count": 1,
   "metadata": {},
   "outputs": [],
   "source": [
    "import numpy as np\n",
    "import pandas as pd"
   ]
  },
  {
   "cell_type": "markdown",
   "metadata": {},
   "source": [
    "Read data"
   ]
  },
  {
   "cell_type": "code",
   "execution_count": 2,
   "metadata": {},
   "outputs": [],
   "source": [
    "raw_data = pd.read_csv('./pull_requests_v3_December 10, 2019_23.41.csv') \n",
    "raw_data = raw_data.iloc[2:] # remove first two header rows\n",
    "\n",
    "# rename columns\n",
    "raw_data.rename(columns={\n",
    "    \"Q10\": \"gender\",\n",
    "    \"Q11\": \"age\",\n",
    "    \"Q12\": \"years_programming\",\n",
    "    \"Q13\": \"years_javascript\",\n",
    "    \"Q32\": \"num_crs_per_week\",\n",
    "    \"Q14\": \"education\",\n",
    "    \"Q19\": \"email\",\n",
    "    \"Q17_1\": \"pct_men\",\n",
    "    \"Q34\": \"employment\",\n",
    "    \"Q45\": \"attn_app\",\n",
    "    \"Q46\": \"attn_gender\",\n",
    "    \"Q47\": \"attn_company\",\n",
    "    \"Q48\": \"attn_company\",\n",
    "    \"Q41\": \"code_quality_1\",\n",
    "    \"Q42\": \"code_quality_2\",\n",
    "    \"Version shown\": \"gender_shown\",    \n",
    "    \n",
    "}, inplace=True)"
   ]
  },
  {
   "cell_type": "code",
   "execution_count": 3,
   "metadata": {},
   "outputs": [],
   "source": [
    "# combine comments\n",
    "max_num_comments = 20\n",
    "\n",
    "col_to_index = {\n",
    "    'line': 1,\n",
    "    'type': 4,\n",
    "    'text': 5\n",
    "}\n",
    "\n",
    "comment1 = 'Q43'\n",
    "comment2 = 'Q50'\n",
    "\n",
    "def get_keep_lambda(col1, col2, isnull_col1):\n",
    "    def f(row):\n",
    "        if row[isnull_col1]:\n",
    "            return row[col2]\n",
    "        else:\n",
    "            return row[col1]\n",
    "    return f\n",
    "\n",
    "def merge_cols(col1, col2, new_col):\n",
    "    null_col1 = 'TMP_null_col1'\n",
    "    raw_data[null_col1] = raw_data[col1].isnull()\n",
    "    raw_data[new_col] = raw_data.apply(get_keep_lambda(col1, col2, null_col1), axis=1)\n",
    "    raw_data.drop([col1, col2, null_col1], axis=1, inplace=True)\n",
    "        \n",
    "for i in range(1,max_num_comments+1):\n",
    "    for col, index in col_to_index.items():\n",
    "        col1 = '{}_{}_{}'.format(comment1, i, index)\n",
    "        col2 = '{}_{}_{}'.format(comment2, i, index)    \n",
    "        new_col = 'comment_{}_{}'.format(i, col)\n",
    "        merge_cols(col1, col2, new_col)\n",
    "        \n",
    "merge_cols('code_quality_1', 'code_quality_2', 'code_quality')\n"
   ]
  },
  {
   "cell_type": "markdown",
   "metadata": {},
   "source": [
    "Get number of lines, types, comments"
   ]
  },
  {
   "cell_type": "code",
   "execution_count": 4,
   "metadata": {},
   "outputs": [],
   "source": [
    "for col in col_to_index.keys():\n",
    "    col_names = ['comment_{}_{}'.format(i, col) for i in range(1, max_num_comments+1)]\n",
    "    raw_data['num_{}s'.format(col)] = max_num_comments - raw_data[col_names].isnull().sum(axis=1)\n",
    "    \n",
    "# get number of bugs v. quality\n",
    "type_col_names = ['comment_{}_{}'.format(i, 'type') for i in range(1, max_num_comments+1)]\n",
    "def count_bugs(row):\n",
    "    num_bugs = 0\n",
    "    for col in type_col_names:\n",
    "        if type(row[col]) is float:\n",
    "            continue\n",
    "        if row[col].lower() == 'bug' or row[col].lower().startswith('b'):\n",
    "            num_bugs += 1\n",
    "    return num_bugs\n",
    "\n",
    "def count_quality(row):\n",
    "    num_quality = 0\n",
    "    for col in type_col_names:\n",
    "        if type(row[col]) is float:\n",
    "            continue\n",
    "        if row[col].lower() == 'quality' or row[col].lower().startswith('q'):\n",
    "            num_quality += 1\n",
    "    return num_quality\n",
    "\n",
    "raw_data['num_bugs'] = raw_data.apply(count_bugs, axis=1)\n",
    "raw_data['num_quality'] = raw_data.apply(count_quality, axis=1)\n",
    "raw_data['percent_bugs'] = raw_data['num_bugs'] / raw_data['num_types']\n",
    "raw_data['percent_quality'] = raw_data['num_quality'] / raw_data['num_types']\n",
    "raw_data['gender_equal'] = raw_data['gender_shown'] == raw_data['gender']"
   ]
  },
  {
   "cell_type": "code",
   "execution_count": 8,
   "metadata": {},
   "outputs": [],
   "source": [
    "raw_data.to_csv('./data_v2_processed.csv')"
   ]
  },
  {
   "cell_type": "code",
   "execution_count": 7,
   "metadata": {},
   "outputs": [
    {
     "data": {
      "text/plain": [
       "80"
      ]
     },
     "execution_count": 7,
     "metadata": {},
     "output_type": "execute_result"
    }
   ],
   "source": [
    "len(raw_data)"
   ]
  }
 ],
 "metadata": {
  "kernelspec": {
   "display_name": "Python 3",
   "language": "python",
   "name": "python3"
  },
  "language_info": {
   "codemirror_mode": {
    "name": "ipython",
    "version": 3
   },
   "file_extension": ".py",
   "mimetype": "text/x-python",
   "name": "python",
   "nbconvert_exporter": "python",
   "pygments_lexer": "ipython3",
   "version": "3.7.4"
  },
  "toc": {
   "base_numbering": 1,
   "nav_menu": {},
   "number_sections": true,
   "sideBar": true,
   "skip_h1_title": false,
   "title_cell": "Table of Contents",
   "title_sidebar": "Contents",
   "toc_cell": false,
   "toc_position": {},
   "toc_section_display": true,
   "toc_window_display": false
  }
 },
 "nbformat": 4,
 "nbformat_minor": 2
}
